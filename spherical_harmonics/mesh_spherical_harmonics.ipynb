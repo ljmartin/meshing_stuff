{
 "cells": [
  {
   "cell_type": "code",
   "execution_count": 1,
   "id": "a0edafb0-eb42-4476-8dd6-edc2bd0ec033",
   "metadata": {},
   "outputs": [],
   "source": [
    "from scipy.special import sph_harm\n",
    "import numpy as np\n",
    "import matplotlib.pyplot as plt\n",
    "\n",
    "from skimage import measure\n",
    "import meshplot as mp"
   ]
  },
  {
   "cell_type": "markdown",
   "id": "299007d9-22b8-4e81-9139-13d0cdc1b3b5",
   "metadata": {},
   "source": [
    "# Note:\n",
    "order = m, it varies fast - `m<=np.abs(l)`\n",
    "\n",
    "degree = l, it varies slow - `l>=1`. \n",
    "\n",
    "Atomic orbitals go like 2l+1\n",
    "https://en.wikipedia.org/wiki/Cubic_harmonic\n",
    "\n"
   ]
  },
  {
   "cell_type": "code",
   "execution_count": 3,
   "id": "eecd6de0-0063-45dd-8843-ce5e36c81b2d",
   "metadata": {},
   "outputs": [],
   "source": [
    "## start by taking an xyz grid of the unit cube:\n",
    "\n",
    "spacing = 0.005 #quite fine resolution - slow!\n",
    "a,b,c = np.meshgrid( \n",
    "    np.arange(0,2, spacing)-1,\n",
    "    np.arange(0,2, spacing)-1,\n",
    "    np.arange(0,2, spacing)-1,\n",
    "    indexing='ij'\n",
    ")\n",
    "\n",
    "#shape (-1, 3) array of points:\n",
    "pts = np.vstack([a.ravel(),b.ravel(),c.ravel()]).T"
   ]
  },
  {
   "cell_type": "code",
   "execution_count": 11,
   "id": "22601a17-86cd-4d31-a4f5-f71c189dedbb",
   "metadata": {},
   "outputs": [
    {
     "name": "stderr",
     "output_type": "stream",
     "text": [
      "/var/folders/jh/02165y2n7kq2y5ychxtzcjm40000gn/T/ipykernel_75432/1751958227.py:10: RuntimeWarning: invalid value encountered in true_divide\n",
      "  theta   =  np.arccos(z/r) #to degrees\n"
     ]
    }
   ],
   "source": [
    "## then (temporarily) convert this into spherical coordinates\n",
    "\n",
    "def asSpherical(xyz):\n",
    "    \"\"\"Convert xyz points to spherical coordinates (r, theta, phi)\"\"\"\n",
    "    #takes list xyz (single coord)\n",
    "    x       = xyz[:,0]+0.00\n",
    "    y       = xyz[:,1]+0.00\n",
    "    z       = xyz[:,2]+0.00\n",
    "    r       =  np.sqrt(x*x + y*y + z*z)\n",
    "    theta   =  np.arccos(z/r) #to degrees\n",
    "    phi     =  np.arctan2(y,x)\n",
    "    return r, theta, phi\n",
    "\n",
    "r, theta, phi = asSpherical(pts)\n",
    "\n",
    "#replace NaNs with 0 \n",
    "n = 0\n",
    "theta[np.isnan(theta)]=n\n",
    "phi[np.isnan(phi)]=n"
   ]
  },
  {
   "cell_type": "code",
   "execution_count": 12,
   "id": "3d16d0b4-3a32-4984-bf35-fa820330f8d4",
   "metadata": {},
   "outputs": [],
   "source": [
    "## choose one of the spherical harmonics\n",
    "# remember l>=1, m<=abs(l)\n",
    "\n",
    "l = 15\n",
    "m = 13\n",
    "\n",
    "#calculate the value of the harmonic on the unit sphere at all of \n",
    "#the angular coordinates (note 'r' is ignored, hence this is\n",
    "#evaluated on the unit sphere):\n",
    "sph_vals = sph_harm(m, l, phi, theta).real\n",
    "\n",
    "#now ask whether the value of the harmonic function is greater than\n",
    "#or less than 'r'. This tell us if a point (r,theta,phi) is 'outside' \n",
    "#the surface of the harmonic or 'inside' it.\n",
    "diffs = r - np.abs(sph_vals)\n",
    "g = diffs.reshape(a.shape)"
   ]
  },
  {
   "cell_type": "code",
   "execution_count": 13,
   "id": "75169abb-9725-4b56-92f4-43297f54beaa",
   "metadata": {},
   "outputs": [
    {
     "name": "stderr",
     "output_type": "stream",
     "text": [
      "/var/folders/jh/02165y2n7kq2y5ychxtzcjm40000gn/T/ipykernel_75432/1751958227.py:10: RuntimeWarning: invalid value encountered in true_divide\n",
      "  theta   =  np.arccos(z/r) #to degrees\n",
      "/Users/ljmartin/miniconda3/envs/compchem/lib/python3.9/site-packages/jupyter_client/session.py:716: UserWarning: Message serialization failed with:\n",
      "Out of range float values are not JSON compliant\n",
      "Supporting this message is deprecated in jupyter-client 7, please make sure your message is JSON-compliant\n",
      "  content = self.pack(content)\n"
     ]
    },
    {
     "name": "stdout",
     "output_type": "stream",
     "text": [
      "Plot saved to file ./spherical_harmonics.html.\n"
     ]
    },
    {
     "data": {
      "text/plain": [
       "<meshplot.Viewer.Viewer at 0x10e0a2fa0>"
      ]
     },
     "execution_count": 13,
     "metadata": {},
     "output_type": "execute_result"
    }
   ],
   "source": [
    "## finally, we have a grid of values measuring their\n",
    "# distance to the implicit surface of a spherical harmonic. \n",
    "# AKA a signed distance function, so we can apply marching cubes\n",
    "# to find the isosurface. \n",
    "\n",
    "v1, f1, _, _ = measure.marching_cubes(g, 0)\n",
    "\n",
    "# before plotting, we do want to know the value of the harmonic. \n",
    "# I took the absolute values earlier in order to determine the isosurface,\n",
    "# but now that we have vertices we can just ask whether they are negative\n",
    "# or positive. \n",
    "\n",
    "#convert grid coordinates into universe coordinates:\n",
    "v1_univ = v1 * spacing - 1\n",
    "#convert to spherical:\n",
    "r_v1, theta_v1, phi_v1 = asSpherical(v1_univ)\n",
    "#evaluate \n",
    "cols = sph_harm(m, l, phi_v1, theta_v1).real\n",
    "cols[np.isnan(cols)]=0\n",
    "\n",
    "#plot!\n",
    "mp.offline()\n",
    "mp.plot(v1, f1, c=cols, filename='./spherical_harmonics.html')\n"
   ]
  },
  {
   "cell_type": "code",
   "execution_count": null,
   "id": "c4c0add8-5688-4b4e-9142-41cd0a1669d6",
   "metadata": {},
   "outputs": [],
   "source": []
  }
 ],
 "metadata": {
  "kernelspec": {
   "display_name": "Python 3 (ipykernel)",
   "language": "python",
   "name": "python3"
  },
  "language_info": {
   "codemirror_mode": {
    "name": "ipython",
    "version": 3
   },
   "file_extension": ".py",
   "mimetype": "text/x-python",
   "name": "python",
   "nbconvert_exporter": "python",
   "pygments_lexer": "ipython3",
   "version": "3.9.7"
  }
 },
 "nbformat": 4,
 "nbformat_minor": 5
}
